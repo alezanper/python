{
 "cells": [
  {
   "cell_type": "code",
   "execution_count": 7,
   "metadata": {},
   "outputs": [
    {
     "name": "stdout",
     "output_type": "stream",
     "text": [
      "10\n"
     ]
    }
   ],
   "source": [
    "# while loops\n",
    "total = 0\n",
    "j = 0\n",
    "while j < 5:\n",
    "    total += j\n",
    "    j += 1\n",
    "print(total)\n",
    "    \n"
   ]
  },
  {
   "cell_type": "code",
   "execution_count": 8,
   "metadata": {},
   "outputs": [
    {
     "name": "stdout",
     "output_type": "stream",
     "text": [
      "18\n"
     ]
    }
   ],
   "source": [
    "# Using a list with a while loop\n",
    "_list = [1, 2, 3, 5, 7]\n",
    "total = 0\n",
    "i = 0\n",
    "while i < len(_list) and _list[i] > 0:\n",
    "    total += _list[i]\n",
    "    i += 1\n",
    "print(total)\n",
    "    "
   ]
  },
  {
   "cell_type": "code",
   "execution_count": 9,
   "metadata": {},
   "outputs": [
    {
     "name": "stdout",
     "output_type": "stream",
     "text": [
      "6\n"
     ]
    }
   ],
   "source": [
    "# You can use break for finish the loop\n",
    "_list = [1, 2, 3, -1, 5, 7]\n",
    "total = 0\n",
    "i = 0\n",
    "for element in _list:\n",
    "    if element <= 0:\n",
    "        break\n",
    "    total += element\n",
    "print(total)"
   ]
  },
  {
   "cell_type": "code",
   "execution_count": 10,
   "metadata": {},
   "outputs": [
    {
     "name": "stdout",
     "output_type": "stream",
     "text": [
      "6\n"
     ]
    }
   ],
   "source": [
    "# You can use True for infinite loop\n",
    "_list = [1, 2, 3, -1, 5, 7]\n",
    "total = 0\n",
    "i = 0\n",
    "while True:\n",
    "    if _list[i] <= 0:\n",
    "        break\n",
    "    total += _list[i]\n",
    "    i += 1\n",
    "print(total)\n"
   ]
  },
  {
   "cell_type": "code",
   "execution_count": null,
   "metadata": {},
   "outputs": [],
   "source": []
  }
 ],
 "metadata": {
  "kernelspec": {
   "display_name": "Python 3",
   "language": "python",
   "name": "python3"
  },
  "language_info": {
   "codemirror_mode": {
    "name": "ipython",
    "version": 3
   },
   "file_extension": ".py",
   "mimetype": "text/x-python",
   "name": "python",
   "nbconvert_exporter": "python",
   "pygments_lexer": "ipython3",
   "version": "3.6.4"
  }
 },
 "nbformat": 4,
 "nbformat_minor": 2
}
