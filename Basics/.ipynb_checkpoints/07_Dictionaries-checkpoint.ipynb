{
 "cells": [
  {
   "cell_type": "code",
   "execution_count": 3,
   "metadata": {},
   "outputs": [
    {
     "name": "stdout",
     "output_type": "stream",
     "text": [
      "python\n"
     ]
    }
   ],
   "source": [
    "# An empty dictionary\n",
    "my_Dictionary = {}\n",
    "\n",
    "my_Dictionary[\"key1\"] = \"sql\"\n",
    "my_Dictionary[\"key2\"] = \"python\"\n",
    "my_Dictionary[\"key3\"] = \"java\"\n",
    "print(my_Dictionary[\"key2\"])"
   ]
  },
  {
   "cell_type": "code",
   "execution_count": 4,
   "metadata": {},
   "outputs": [
    {
     "name": "stdout",
     "output_type": "stream",
     "text": [
      "c#\n"
     ]
    }
   ],
   "source": [
    "# Keys could be numbers too\n",
    "my_Dictionary[10] = \"c#\"\n",
    "print(my_Dictionary[10])"
   ]
  },
  {
   "cell_type": "code",
   "execution_count": 8,
   "metadata": {},
   "outputs": [
    {
     "name": "stdout",
     "output_type": "stream",
     "text": [
      "key1\n",
      "sql\n",
      " \n",
      "key2\n",
      "python\n",
      " \n",
      "key3\n",
      "java\n",
      " \n",
      "10\n",
      "c#\n",
      " \n"
     ]
    }
   ],
   "source": [
    "# Printing dictionary\n",
    "for key, value in my_Dictionary.items():\n",
    "    print(key)\n",
    "    print(value)\n",
    "    print(\" \")\n"
   ]
  },
  {
   "cell_type": "code",
   "execution_count": 1,
   "metadata": {},
   "outputs": [
    {
     "data": {
      "text/plain": [
       "'b'"
      ]
     },
     "execution_count": 1,
     "metadata": {},
     "output_type": "execute_result"
    }
   ],
   "source": [
    "# Nested Ddictionaries\n",
    "d = {'key': ['a', 'b', 'c']}\n",
    "d['key'][1]\n"
   ]
  },
  {
   "cell_type": "code",
   "execution_count": 3,
   "metadata": {},
   "outputs": [
    {
     "data": {
      "text/plain": [
       "['a', 'b', 'c']"
      ]
     },
     "execution_count": 3,
     "metadata": {},
     "output_type": "execute_result"
    }
   ],
   "source": [
    "# Extract list\n",
    "my_list = d['key']\n",
    "my_list"
   ]
  },
  {
   "cell_type": "code",
   "execution_count": null,
   "metadata": {},
   "outputs": [],
   "source": []
  }
 ],
 "metadata": {
  "kernelspec": {
   "display_name": "Python 3",
   "language": "python",
   "name": "python3"
  },
  "language_info": {
   "codemirror_mode": {
    "name": "ipython",
    "version": 3
   },
   "file_extension": ".py",
   "mimetype": "text/x-python",
   "name": "python",
   "nbconvert_exporter": "python",
   "pygments_lexer": "ipython3",
   "version": "3.6.4"
  }
 },
 "nbformat": 4,
 "nbformat_minor": 2
}
