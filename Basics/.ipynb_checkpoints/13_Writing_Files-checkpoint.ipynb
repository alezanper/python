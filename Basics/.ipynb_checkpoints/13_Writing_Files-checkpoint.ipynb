{
 "cells": [
  {
   "cell_type": "code",
   "execution_count": 13,
   "metadata": {},
   "outputs": [
    {
     "name": "stdout",
     "output_type": "stream",
     "text": [
      "Writing\n",
      "python\n",
      "code\n",
      "\n"
     ]
    }
   ],
   "source": [
    "# Writing files \n",
    "# write mode overrides files (w)\n",
    "file = open(\"fileToWrite.txt\", \"w\")\n",
    "file.write(\"Writing\\n\")\n",
    "file.write(\"python\\n\")\n",
    "file.write(\"code\\n\")\n",
    "file.close()\n",
    "\n",
    "# Reading what we wrote\n",
    "file = open(\"fileToWrite.txt\", \"r\")\n",
    "content = file.read()\n",
    "print(content)\n",
    "file.close()"
   ]
  },
  {
   "cell_type": "code",
   "execution_count": 14,
   "metadata": {},
   "outputs": [
    {
     "name": "stdout",
     "output_type": "stream",
     "text": [
      "Writing\n",
      "python\n",
      "code\n",
      "is awesome \n",
      "\n"
     ]
    }
   ],
   "source": [
    "# Appending data to an existent file\n",
    "file = open(\"fileToWrite.txt\", \"a\")\n",
    "file.write(\"is awesome \\n\")\n",
    "file.close()\n",
    "\n",
    "# Reading append data\n",
    "file = open(\"fileToWrite.txt\", \"r\")\n",
    "content = file.read()\n",
    "print(content)\n",
    "file.close()"
   ]
  },
  {
   "cell_type": "code",
   "execution_count": 15,
   "metadata": {},
   "outputs": [
    {
     "name": "stdout",
     "output_type": "stream",
     "text": [
      "Writing\n",
      "python\n",
      "code\n",
      "is awesome \n",
      "using with \n",
      "\n"
     ]
    }
   ],
   "source": [
    "# Using the with function\n",
    "# with for handling closing files automatically\n",
    "# a+ is for appending and reading\n",
    "with open(\"fileToWrite.txt\", \"a+\") as file:\n",
    "    file.seek(0)\n",
    "    content = file.read()\n",
    "    file.write(\"using with \\n\")\n",
    "\n",
    "# Reading append data\n",
    "file = open(\"fileToWrite.txt\", \"r\")\n",
    "content = file.read()\n",
    "print(content)\n",
    "file.close()"
   ]
  },
  {
   "cell_type": "code",
   "execution_count": null,
   "metadata": {},
   "outputs": [],
   "source": []
  }
 ],
 "metadata": {
  "kernelspec": {
   "display_name": "Python 3",
   "language": "python",
   "name": "python3"
  },
  "language_info": {
   "codemirror_mode": {
    "name": "ipython",
    "version": 3
   },
   "file_extension": ".py",
   "mimetype": "text/x-python",
   "name": "python",
   "nbconvert_exporter": "python",
   "pygments_lexer": "ipython3",
   "version": "3.6.4"
  }
 },
 "nbformat": 4,
 "nbformat_minor": 2
}
