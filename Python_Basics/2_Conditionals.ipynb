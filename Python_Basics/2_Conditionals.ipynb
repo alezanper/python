{
 "cells": [
  {
   "cell_type": "code",
   "execution_count": 4,
   "metadata": {},
   "outputs": [
    {
     "name": "stdout",
     "output_type": "stream",
     "text": [
      "False\n",
      "True\n",
      "False\n",
      "True\n"
     ]
    }
   ],
   "source": [
    "# Before take a view of conditionals is good to know about comparison\n",
    "\n",
    "# Comparison of booleans\n",
    "print(True == False)\n",
    "\n",
    "# Comparison of integers\n",
    "print(-5*15 != 75)\n",
    "\n",
    "# Comparison of strings\n",
    "print(\"Alex\" == \"@l3x\")\n",
    "\n",
    "# Compare a boolean with an integer\n",
    "print(True == 1)"
   ]
  },
  {
   "cell_type": "code",
   "execution_count": 1,
   "metadata": {},
   "outputs": [
    {
     "name": "stdout",
     "output_type": "stream",
     "text": [
      "b is less or equal to a\n",
      "outside of if statement\n"
     ]
    }
   ],
   "source": [
    "# Simple If Else conditional\n",
    "a = 3\n",
    "b = 2\n",
    "if a < b:\n",
    "    print(\"a is less than b\")\n",
    "    print(\"more text\")\n",
    "else:\n",
    "    print(\"b is less or equal to a\")\n",
    "print(\"outside of if statement\")"
   ]
  },
  {
   "cell_type": "code",
   "execution_count": 1,
   "metadata": {},
   "outputs": [
    {
     "name": "stdout",
     "output_type": "stream",
     "text": [
      "a is less than b plus 10\n",
      "outside of if statement\n"
     ]
    }
   ],
   "source": [
    "# Adding if blocks\n",
    "a = 3\n",
    "b = 2\n",
    "if a < b:\n",
    "    print(\"a is less than b\")\n",
    "    print(\"more text\")\n",
    "elif a == b:\n",
    "    print(\"a is equal to b\")\n",
    "elif a < b + 10:\n",
    "    print(\"a is less than b plus 10\")\n",
    "else:\n",
    "    print(\"b is less than a\")\n",
    "print(\"outside of if statement\")    \n",
    "\n"
   ]
  },
  {
   "cell_type": "code",
   "execution_count": 2,
   "metadata": {},
   "outputs": [
    {
     "name": "stdout",
     "output_type": "stream",
     "text": [
      "c is less than d\n"
     ]
    }
   ],
   "source": [
    "# Nested Conditionals\n",
    "c = 10\n",
    "d = 20\n",
    "if c < d:\n",
    "    print(\"c is less than d\")\n",
    "else:\n",
    "    if c == d:\n",
    "        print(\"c is equal to d\")\n",
    "    else:\n",
    "        print(\"c is greater than d\")"
   ]
  },
  {
   "cell_type": "code",
   "execution_count": null,
   "metadata": {},
   "outputs": [],
   "source": [
    "\n"
   ]
  },
  {
   "cell_type": "code",
   "execution_count": null,
   "metadata": {},
   "outputs": [],
   "source": []
  }
 ],
 "metadata": {
  "kernelspec": {
   "display_name": "Python 3",
   "language": "python",
   "name": "python3"
  },
  "language_info": {
   "codemirror_mode": {
    "name": "ipython",
    "version": 3
   },
   "file_extension": ".py",
   "mimetype": "text/x-python",
   "name": "python",
   "nbconvert_exporter": "python",
   "pygments_lexer": "ipython3",
   "version": "3.6.4"
  }
 },
 "nbformat": 4,
 "nbformat_minor": 2
}
