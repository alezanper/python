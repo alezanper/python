{
 "cells": [
  {
   "cell_type": "code",
   "execution_count": 1,
   "metadata": {},
   "outputs": [],
   "source": [
    "# Using turtle \n",
    "import turtle\n",
    "\n",
    "y = 5\n",
    "for i in range(y):\n",
    "    turtle.forward(100)\n",
    "    turtle.right(360/y)\n",
    "\n",
    "##Nested\n",
    "for i in range(y) :\n",
    "    turtle.forward(100)\n",
    "    turtle.right(360/y)\n",
    "    for j in range(y):\n",
    "        turtle.forward(50)\n",
    "        turtle.right(360/y)\n",
    "turtle.\n",
    "        "
   ]
  },
  {
   "cell_type": "code",
   "execution_count": null,
   "metadata": {},
   "outputs": [],
   "source": []
  }
 ],
 "metadata": {
  "kernelspec": {
   "display_name": "Python 3",
   "language": "python",
   "name": "python3"
  },
  "language_info": {
   "codemirror_mode": {
    "name": "ipython",
    "version": 3
   },
   "file_extension": ".py",
   "mimetype": "text/x-python",
   "name": "python",
   "nbconvert_exporter": "python",
   "pygments_lexer": "ipython3",
   "version": "3.6.4"
  }
 },
 "nbformat": 4,
 "nbformat_minor": 2
}
