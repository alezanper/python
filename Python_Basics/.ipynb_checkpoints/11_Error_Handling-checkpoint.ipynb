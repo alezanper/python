{
 "cells": [
  {
   "cell_type": "code",
   "execution_count": 3,
   "metadata": {},
   "outputs": [
    {
     "name": "stdout",
     "output_type": "stream",
     "text": [
      "Zero is not a good option.\n"
     ]
    }
   ],
   "source": [
    "# Handling errors\n",
    "def divide1(num1, num2):\n",
    "    try:\n",
    "        return num1/num2\n",
    "    except: \n",
    "        return \"Zero is not a good option.\"\n",
    "\n",
    "def divide2(num1, num2):\n",
    "    try:\n",
    "        return num1/num2\n",
    "    except ZeroDivisionError: \n",
    "        return \"Zero is not a good option.\"\n",
    "\n",
    "print(divide2(10, 0))"
   ]
  },
  {
   "cell_type": "code",
   "execution_count": null,
   "metadata": {},
   "outputs": [],
   "source": []
  }
 ],
 "metadata": {
  "kernelspec": {
   "display_name": "Python 3",
   "language": "python",
   "name": "python3"
  },
  "language_info": {
   "codemirror_mode": {
    "name": "ipython",
    "version": 3
   },
   "file_extension": ".py",
   "mimetype": "text/x-python",
   "name": "python",
   "nbconvert_exporter": "python",
   "pygments_lexer": "ipython3",
   "version": "3.6.4"
  }
 },
 "nbformat": 4,
 "nbformat_minor": 2
}
