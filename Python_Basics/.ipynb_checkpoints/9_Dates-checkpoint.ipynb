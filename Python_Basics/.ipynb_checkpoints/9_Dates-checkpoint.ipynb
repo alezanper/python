{
 "cells": [
  {
   "cell_type": "code",
   "execution_count": 1,
   "metadata": {},
   "outputs": [
    {
     "name": "stdout",
     "output_type": "stream",
     "text": [
      "2018-08-20\n",
      "2018\n",
      "8\n",
      "20\n",
      "20 Aug, 2018\n",
      "20 Aug, 18\n"
     ]
    }
   ],
   "source": [
    "# Importing a specifi library\n",
    "import datetime\n",
    "\n",
    "# Today is a function that returns today's date\n",
    "currentDate = datetime.date.today()\n",
    "print(currentDate)\n",
    "print(currentDate.year)\n",
    "print(currentDate.month)\n",
    "print(currentDate.day)\n",
    "\n",
    "print(currentDate.strftime(\"%d %b, %Y\"))\n",
    "print(currentDate.strftime(\"%d %b, %y\"))"
   ]
  },
  {
   "cell_type": "code",
   "execution_count": null,
   "metadata": {},
   "outputs": [],
   "source": []
  }
 ],
 "metadata": {
  "kernelspec": {
   "display_name": "Python 3",
   "language": "python",
   "name": "python3"
  },
  "language_info": {
   "codemirror_mode": {
    "name": "ipython",
    "version": 3
   },
   "file_extension": ".py",
   "mimetype": "text/x-python",
   "name": "python",
   "nbconvert_exporter": "python",
   "pygments_lexer": "ipython3",
   "version": "3.6.4"
  }
 },
 "nbformat": 4,
 "nbformat_minor": 2
}
