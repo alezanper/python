{
 "cells": [
  {
   "cell_type": "code",
   "execution_count": 6,
   "metadata": {},
   "outputs": [
    {
     "name": "stdout",
     "output_type": "stream",
     "text": [
      "      col1  col2  col3\n",
      "row1     2     4     6\n",
      "row2    10    20    30\n"
     ]
    }
   ],
   "source": [
    "# importing pandas\n",
    "import pandas as pn\n",
    "\n",
    "dataFrame = pn.DataFrame([[2,4,6],[10,20,30]], columns=[\"col1\", \"col2\", \"col3\"], index=[\"row1\",\"row2\"])\n",
    "print(dataFrame)"
   ]
  },
  {
   "cell_type": "code",
   "execution_count": 12,
   "metadata": {},
   "outputs": [
    {
     "name": "stdout",
     "output_type": "stream",
     "text": [
      "row1     2\n",
      "row2    10\n",
      "Name: col1, dtype: int64\n",
      "6.0\n"
     ]
    }
   ],
   "source": [
    "# Selecting column 1\n",
    "print(dataFrame.col1)\n",
    "\n",
    "# Calculating mean\n",
    "print(dataFrame.col1.mean())"
   ]
  },
  {
   "cell_type": "code",
   "execution_count": 7,
   "metadata": {},
   "outputs": [
    {
     "name": "stdout",
     "output_type": "stream",
     "text": [
      "   col_1 col_2\n",
      "0      3     a\n",
      "1      2     b\n",
      "2      1     c\n",
      "3      0     d\n"
     ]
    }
   ],
   "source": [
    "# importing pandas\n",
    "import pandas as pn\n",
    "\n",
    "# Using Dictionaries as dataframes\n",
    "datos = {'col_1': [3, 2, 1, 0], 'col_2': ['a', 'b', 'c', 'd']}\n",
    "df2 = pn.DataFrame.from_dict(datos)\n",
    "print(df2)  "
   ]
  },
  {
   "cell_type": "code",
   "execution_count": null,
   "metadata": {},
   "outputs": [],
   "source": []
  }
 ],
 "metadata": {
  "kernelspec": {
   "display_name": "Python 3",
   "language": "python",
   "name": "python3"
  },
  "language_info": {
   "codemirror_mode": {
    "name": "ipython",
    "version": 3
   },
   "file_extension": ".py",
   "mimetype": "text/x-python",
   "name": "python",
   "nbconvert_exporter": "python",
   "pygments_lexer": "ipython3",
   "version": "3.6.4"
  }
 },
 "nbformat": 4,
 "nbformat_minor": 2
}
