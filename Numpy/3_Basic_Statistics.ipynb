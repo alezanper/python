{
 "cells": [
  {
   "cell_type": "code",
   "execution_count": 13,
   "metadata": {},
   "outputs": [
    {
     "name": "stdout",
     "output_type": "stream",
     "text": [
      "[ 1  2  4  5  8  5  3  2  1 10  5  7  9]\n"
     ]
    }
   ],
   "source": [
    "import numpy as np\n",
    "\n",
    "vector = [1, 2, 4, 5, 8, 5, 3, 2, 1, 10, 5, 7, 9]\n",
    "np_vector = np.array(vector)\n",
    "\n",
    "# Print vector\n",
    "print(np_vector)"
   ]
  },
  {
   "cell_type": "code",
   "execution_count": 14,
   "metadata": {},
   "outputs": [
    {
     "name": "stdout",
     "output_type": "stream",
     "text": [
      "Average: 4.769230769230769\n"
     ]
    }
   ],
   "source": [
    "# Calculating the mean\n",
    "avg = np.mean(np_vector)\n",
    "print(\"Average: \" + str(avg))"
   ]
  },
  {
   "cell_type": "code",
   "execution_count": 15,
   "metadata": {},
   "outputs": [
    {
     "name": "stdout",
     "output_type": "stream",
     "text": [
      "Median: 5.0\n"
     ]
    }
   ],
   "source": [
    "# Calculating the median\n",
    "median = np.median(np_vector)\n",
    "print(\"Median: \" + str(median))"
   ]
  },
  {
   "cell_type": "code",
   "execution_count": 16,
   "metadata": {},
   "outputs": [
    {
     "name": "stdout",
     "output_type": "stream",
     "text": [
      "Standard Deviation: 2.8864096983528795\n"
     ]
    }
   ],
   "source": [
    "# Calculating Standard Deviation\n",
    "st_dev = np.std(np_vector)\n",
    "print(\"Standard Deviation: \" + str(st_dev))"
   ]
  },
  {
   "cell_type": "code",
   "execution_count": 17,
   "metadata": {},
   "outputs": [
    {
     "name": "stdout",
     "output_type": "stream",
     "text": [
      "Correlation: \n",
      "[[1.         0.55778326]\n",
      " [0.55778326 1.        ]]\n"
     ]
    }
   ],
   "source": [
    "# Print correlation between two vectors\n",
    "vector_1 = [1, 2, 4, 5, 8, 5, 3, 2, 1, 10, 5, 7, 9]\n",
    "vector_2 = [2, 1, 2, 7, 1, 4, 9, 2, 1, 12, 2, 0, 19]\n",
    "\n",
    "coef_corr = np.corrcoef(vector_1, vector_2)\n",
    "print(\"Correlation: \")\n",
    "print(str(coef_corr))\n"
   ]
  },
  {
   "cell_type": "code",
   "execution_count": null,
   "metadata": {},
   "outputs": [],
   "source": []
  }
 ],
 "metadata": {
  "kernelspec": {
   "display_name": "Python 3",
   "language": "python",
   "name": "python3"
  },
  "language_info": {
   "codemirror_mode": {
    "name": "ipython",
    "version": 3
   },
   "file_extension": ".py",
   "mimetype": "text/x-python",
   "name": "python",
   "nbconvert_exporter": "python",
   "pygments_lexer": "ipython3",
   "version": "3.6.4"
  }
 },
 "nbformat": 4,
 "nbformat_minor": 2
}
