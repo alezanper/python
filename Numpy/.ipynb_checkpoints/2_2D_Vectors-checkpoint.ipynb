{
 "cells": [
  {
   "cell_type": "code",
   "execution_count": 1,
   "metadata": {},
   "outputs": [
    {
     "name": "stdout",
     "output_type": "stream",
     "text": [
      "<class 'numpy.ndarray'>\n"
     ]
    }
   ],
   "source": [
    "# 2D numpy array\n",
    "import numpy as np\n",
    "\n",
    "people = [[1.80, 78.4],\n",
    "          [1.60, 62.7],\n",
    "          [2.10, 98.5],\n",
    "          [1.88, 75.2]]\n",
    "\n",
    "# Create a 2D Numpy array from people\n",
    "np_people = np.array(people)\n",
    "\n",
    "# Print out the type\n",
    "print(type(np_people))"
   ]
  },
  {
   "cell_type": "code",
   "execution_count": 2,
   "metadata": {},
   "outputs": [
    {
     "name": "stdout",
     "output_type": "stream",
     "text": [
      "(4, 2)\n"
     ]
    }
   ],
   "source": [
    "# Print out the shape \n",
    "print(np_people.shape)"
   ]
  },
  {
   "cell_type": "code",
   "execution_count": 3,
   "metadata": {},
   "outputs": [
    {
     "name": "stdout",
     "output_type": "stream",
     "text": [
      "[[ 2.1  98.5 ]\n",
      " [ 1.88 75.2 ]]\n"
     ]
    }
   ],
   "source": [
    "# Print the last two rows (zero based)\n",
    "print(np_people[2:])"
   ]
  },
  {
   "cell_type": "code",
   "execution_count": 4,
   "metadata": {},
   "outputs": [
    {
     "name": "stdout",
     "output_type": "stream",
     "text": [
      "[78.4 62.7 98.5 75.2]\n"
     ]
    }
   ],
   "source": [
    "# Print the second column\n",
    "print(np_people[:,1])"
   ]
  },
  {
   "cell_type": "code",
   "execution_count": 10,
   "metadata": {},
   "outputs": [
    {
     "name": "stdout",
     "output_type": "stream",
     "text": [
      "[[1.8, 78.4], [1.7, 72.7], [2.1, 96.5], [1.88, 75.2], [1.6, 68.4], [1.5, 62.7], [1.63, 58.5], [1.55, 55.1]]\n"
     ]
    }
   ],
   "source": [
    "# Adding two 2d vectors\n",
    "import numpy as np\n",
    "\n",
    "boys = [[1.80, 78.4],\n",
    "        [1.70, 72.7],\n",
    "        [2.10, 96.5],\n",
    "        [1.88, 75.2]]\n",
    "\n",
    "girls = [[1.60, 68.4],\n",
    "         [1.50, 62.7],\n",
    "         [1.63, 58.5],\n",
    "         [1.55, 55.1]]\n",
    "\n",
    "np_boys = np.array(boys)\n",
    "np_girls = np.array(girls)\n",
    "\n",
    "# Without numpy the + makes a concat of vectors\n",
    "print(boys + girls)"
   ]
  },
  {
   "cell_type": "code",
   "execution_count": 11,
   "metadata": {},
   "outputs": [
    {
     "name": "stdout",
     "output_type": "stream",
     "text": [
      "[[  3.4  146.8 ]\n",
      " [  3.2  135.4 ]\n",
      " [  3.73 155.  ]\n",
      " [  3.43 130.3 ]]\n"
     ]
    }
   ],
   "source": [
    "# With numpy the + makes a sum of vectors\n",
    "print(np_boys + np_girls)"
   ]
  },
  {
   "cell_type": "code",
   "execution_count": null,
   "metadata": {},
   "outputs": [],
   "source": []
  }
 ],
 "metadata": {
  "kernelspec": {
   "display_name": "Python 3",
   "language": "python",
   "name": "python3"
  },
  "language_info": {
   "codemirror_mode": {
    "name": "ipython",
    "version": 3
   },
   "file_extension": ".py",
   "mimetype": "text/x-python",
   "name": "python",
   "nbconvert_exporter": "python",
   "pygments_lexer": "ipython3",
   "version": "3.6.4"
  }
 },
 "nbformat": 4,
 "nbformat_minor": 2
}
