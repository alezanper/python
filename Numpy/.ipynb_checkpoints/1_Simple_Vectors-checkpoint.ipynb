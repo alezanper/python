{
 "cells": [
  {
   "cell_type": "code",
   "execution_count": 20,
   "metadata": {},
   "outputs": [
    {
     "name": "stdout",
     "output_type": "stream",
     "text": [
      "[1.         5.         0.66666667 0.75       2.8        0.16666667]\n"
     ]
    }
   ],
   "source": [
    "# Numpy is a great library to work with multidimensional array objects\n",
    "import numpy as np\n",
    "\n",
    "np_space = np.array([1,10,2,3,14,1])\n",
    "np_time = np.array([1,2,3,4,5,6])\n",
    "np_velocity = np_space/np_time\n",
    "print(np_velocity)"
   ]
  },
  {
   "cell_type": "code",
   "execution_count": 21,
   "metadata": {},
   "outputs": [
    {
     "name": "stdout",
     "output_type": "stream",
     "text": [
      "[ 2.         10.          1.33333333  1.5         5.6         0.33333333]\n"
     ]
    }
   ],
   "source": [
    "# Modifying vector \n",
    "np_velocity = np_velocity * 2\n",
    "print(np_velocity)"
   ]
  },
  {
   "cell_type": "code",
   "execution_count": 22,
   "metadata": {},
   "outputs": [
    {
     "name": "stdout",
     "output_type": "stream",
     "text": [
      "1.3333333333333333\n"
     ]
    }
   ],
   "source": [
    "# Selecting a specific value by index (zero based)\n",
    "print(np_velocity[2])"
   ]
  },
  {
   "cell_type": "code",
   "execution_count": 23,
   "metadata": {},
   "outputs": [
    {
     "name": "stdout",
     "output_type": "stream",
     "text": [
      "[10.          1.33333333]\n"
     ]
    }
   ],
   "source": [
    "# Extract a subarray\n",
    "np_subVelocity = np_velocity[1:3]\n",
    "print(np_subVelocity)"
   ]
  }
 ],
 "metadata": {
  "kernelspec": {
   "display_name": "Python 3",
   "language": "python",
   "name": "python3"
  },
  "language_info": {
   "codemirror_mode": {
    "name": "ipython",
    "version": 3
   },
   "file_extension": ".py",
   "mimetype": "text/x-python",
   "name": "python",
   "nbconvert_exporter": "python",
   "pygments_lexer": "ipython3",
   "version": "3.6.4"
  }
 },
 "nbformat": 4,
 "nbformat_minor": 2
}
