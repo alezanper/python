{
 "cells": [
  {
   "cell_type": "markdown",
   "metadata": {},
   "source": [
    "# Turtle Package"
   ]
  },
  {
   "cell_type": "code",
   "execution_count": 1,
   "metadata": {},
   "outputs": [
    {
     "ename": "SyntaxError",
     "evalue": "invalid syntax (<ipython-input-1-88bc2d0cc196>, line 16)",
     "output_type": "error",
     "traceback": [
      "\u001b[1;36m  File \u001b[1;32m\"<ipython-input-1-88bc2d0cc196>\"\u001b[1;36m, line \u001b[1;32m16\u001b[0m\n\u001b[1;33m    turtle.\u001b[0m\n\u001b[1;37m           ^\u001b[0m\n\u001b[1;31mSyntaxError\u001b[0m\u001b[1;31m:\u001b[0m invalid syntax\n"
     ]
    }
   ],
   "source": [
    "# Using turtle \n",
    "import turtle\n",
    "\n",
    "y = 5\n",
    "for i in range(y):\n",
    "    turtle.forward(100)\n",
    "    turtle.right(360/y)\n",
    "\n",
    "##Nested\n",
    "for i in range(y) :\n",
    "    turtle.forward(100)\n",
    "    turtle.right(360/y)\n",
    "    for j in range(y):\n",
    "        turtle.forward(50)\n",
    "        turtle.right(360/y)\n",
    "turtle."
   ]
  },
  {
   "cell_type": "code",
   "execution_count": null,
   "metadata": {},
   "outputs": [],
   "source": []
  }
 ],
 "metadata": {
  "kernelspec": {
   "display_name": "Python 3",
   "language": "python",
   "name": "python3"
  }
 },
 "nbformat": 4,
 "nbformat_minor": 2
}
