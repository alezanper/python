{
 "cells": [
  {
   "cell_type": "code",
   "execution_count": 3,
   "metadata": {},
   "outputs": [
    {
     "name": "stdout",
     "output_type": "stream",
     "text": [
      "12.566370614359172\n"
     ]
    }
   ],
   "source": [
    "# Importing math package\n",
    "import math\n",
    "\n",
    "# Calculating circle data\n",
    "radius = 2\n",
    "circumference = 2* math.pi * radius\n",
    "print(circumference)\n"
   ]
  },
  {
   "cell_type": "code",
   "execution_count": 4,
   "metadata": {},
   "outputs": [
    {
     "name": "stdout",
     "output_type": "stream",
     "text": [
      "0.8726646259971648\n"
     ]
    }
   ],
   "source": [
    "# You can import certain functions\n",
    "# Import radians function of math package\n",
    "from math import radians \n",
    "\n",
    "p = 10\n",
    "d = p * radians(5)\n",
    "print(d)"
   ]
  },
  {
   "cell_type": "code",
   "execution_count": 1,
   "metadata": {},
   "outputs": [
    {
     "data": {
      "text/plain": [
       "['.git',\n",
       " '.ipynb_checkpoints',\n",
       " '01_Variables.ipynb',\n",
       " '02_Conditionals.ipynb',\n",
       " '03_Functions.ipynb',\n",
       " '04_Lists.ipynb',\n",
       " '05_For_Loops.ipynb',\n",
       " '06_While_Loops_and_Break_Statement.ipynb',\n",
       " '07_Dictionaries.ipynb',\n",
       " '08_Packages.ipynb',\n",
       " '09_Dates.ipynb',\n",
       " '10_Turtle.ipynb',\n",
       " '11_Error_Handling.ipynb',\n",
       " '12_Reading_Files.ipynb',\n",
       " '13_Writing_Files.ipynb',\n",
       " 'fileToRead.txt',\n",
       " 'fileToWrite.txt']"
      ]
     },
     "execution_count": 1,
     "metadata": {},
     "output_type": "execute_result"
    }
   ],
   "source": [
    "# Checking Directory\n",
    "import os\n",
    "os.listdir()"
   ]
  },
  {
   "cell_type": "code",
   "execution_count": null,
   "metadata": {},
   "outputs": [],
   "source": []
  }
 ],
 "metadata": {
  "kernelspec": {
   "display_name": "Python 3",
   "language": "python",
   "name": "python3"
  },
  "language_info": {
   "codemirror_mode": {
    "name": "ipython",
    "version": 3
   },
   "file_extension": ".py",
   "mimetype": "text/x-python",
   "name": "python",
   "nbconvert_exporter": "python",
   "pygments_lexer": "ipython3",
   "version": "3.6.4"
  }
 },
 "nbformat": 4,
 "nbformat_minor": 2
}
